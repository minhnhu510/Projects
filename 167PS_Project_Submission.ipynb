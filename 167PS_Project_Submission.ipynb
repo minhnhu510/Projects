{
 "cells": [
  {
   "cell_type": "markdown",
   "id": "e1264b14",
   "metadata": {},
   "source": [
    "# MATH 167PS PROJECT\n",
    "## Names: Le Dao (le.h.dao@sjsu.edu), Dang Minh Nhu Nguyen (dang.m.nguyen@sjsu.edu), Johanna Chen (johanna.chen@sjsu.edu), Andrew Pickard-Christen (andrew.pickard-christen@sjsu.edu), Dr.Matina Bremer"
   ]
  },
  {
   "cell_type": "markdown",
   "id": "a96f85a7",
   "metadata": {},
   "source": [
    "***Loading Data and Import all the packages***"
   ]
  },
  {
   "cell_type": "code",
   "execution_count": null,
   "id": "f2066269",
   "metadata": {},
   "outputs": [],
   "source": [
    "import pandas as pd\n",
    "import matplotlib.pyplot as plt\n",
    "import numpy as np\n",
    "from fancyimpute import IterativeImputer as MICE\n",
    "\n",
    "store=pd.read_csv('/Users/admin/Downloads/stores.csv')\n",
    "holiday=pd.read_csv('/Users/admin/Downloads/holidays_events.csv')\n",
    "transaction=pd.read_csv('/Users/admin/Downloads/transactions.csv')\n",
    "oil=pd.read_csv('/Users/admin/Downloads/oil.csv')"
   ]
  },
  {
   "cell_type": "markdown",
   "id": "11022693",
   "metadata": {},
   "source": [
    "***Data Exploration***"
   ]
  },
  {
   "cell_type": "code",
   "execution_count": null,
   "id": "a907941a",
   "metadata": {
    "scrolled": true
   },
   "outputs": [],
   "source": [
    "print(\"Information of store.csv\\n\\n\",store.info())\n",
    "print(\"Information of holiday_events.csv\\n\\n\",holiday.info())\n",
    "print(\"Information of transactions.csv\\n\\n\",transaction.info())\n",
    "print(\"Information of oil.csv\\n\\n\",oil.info())"
   ]
  },
  {
   "cell_type": "markdown",
   "id": "c3fcba62",
   "metadata": {},
   "source": [
    "***Data Cleaning***"
   ]
  },
  {
   "cell_type": "code",
   "execution_count": null,
   "id": "b28ceff2",
   "metadata": {
    "scrolled": true
   },
   "outputs": [],
   "source": [
    "#Step 1: Merging the data on the left to reduce data loss\n",
    "df=store.merge(transaction,on='store_nbr',how='left').merge(holiday,on='date',how='left').merge(oil,how='left')\n",
    "\n",
    "#Step 2: Rename the data\n",
    "df=df.rename(columns={'store_nbr':'Store_number','city':'City','state':'State','type_x':'Store_type','cluster':'Cluster','date':'Date','transactions':'Transactions','type_y':'Holiday_type','locale':'Locale','locale_name':'Locale_name','description':'Description','transferred':'Transferred','dcoilwtico':'Oil_price'})\n",
    "\n",
    "#Step 3: Adding new columns: day, month, year\n",
    "df['year']=pd.DatetimeIndex(df.Date).year\n",
    "df['month']=pd.DatetimeIndex(df.Date).month\n",
    "df['day']=pd.DatetimeIndex(df.Date).day\n",
    "\n",
    "#Step 4: For loop to fill in NA\n",
    "for i in list(df.columns.values[1:12]):# Any missing holiday day after merging is a NO holiday/Event\n",
    "    if df[i].isna().sum() !=0:\n",
    "        df[i] = df[i].fillna(\"No Holiday/Event\")\n",
    "\n",
    "#Step 5: Mean imputation for column Oil_price\n",
    "df['Oil_price']=MICE().fit_transform(df[['year','month','Oil_price']])[:,2]\n",
    "\n",
    "#Step 6: Check the data information\n",
    "print(df.info())\n",
    "\n",
    "#Step 7: Display the first 5 rows\n",
    "df.head(5)"
   ]
  },
  {
   "cell_type": "markdown",
   "id": "26f8eae3",
   "metadata": {},
   "source": [
    "***GOAL: Is there a trend in the average transaction of 22 cities in different type of holiday events?***"
   ]
  },
  {
   "cell_type": "code",
   "execution_count": null,
   "id": "32ce55e2",
   "metadata": {},
   "outputs": [],
   "source": [
    "import plotly.express as px #import plotly to graph a \n",
    "df2=pd.DataFrame(df.groupby(['City','Holiday_type']).Transactions.mean()) # Calculate the average transactions of each holiday in different city\n",
    "df2.reset_index(inplace=True) #reset index level \n",
    "#Create a scatter plot where the size of each dot vary differently based on the value of the transaction\n",
    "fig = px.scatter(df2, x='City', color='Transactions', y='Holiday_type', size='Transactions',\n",
    "                 color_discrete_sequence=px.colors.qualitative.G10) #Using buil-in quanlitative G10 color to represent discrete data points\n",
    "fig.update_xaxes(tickangle=45)\n",
    "fig.show()"
   ]
  },
  {
   "cell_type": "markdown",
   "id": "ca959896",
   "metadata": {},
   "source": [
    "***GOAL: What is the highest month that results in the highest average transaction throughout different year?***"
   ]
  },
  {
   "cell_type": "code",
   "execution_count": null,
   "id": "b469444b",
   "metadata": {
    "scrolled": true
   },
   "outputs": [],
   "source": [
    "plt.rcParams[\"figure.figsize\"] = (15,8)\n",
    "df1=pd.DataFrame(df.groupby(['year','month']).Transactions.mean()) #See the average transactions throughout 12 months of the year\n",
    "df1.reset_index(inplace=True) #reset the index \n",
    "fig, ax = plt.subplots()\n",
    "for i in list(set(df1.year)): #Create a line plot that shows the average transactions of each year\n",
    "    ax.plot(df1[df1.year==i].month,df1[df1.year==i].Transactions, label=str(i))\n",
    "plt.legend(bbox_to_anchor=(1,1),fontsize=15)\n",
    "ax.ticklabel_format(useOffset=False,style='plain') #prevent scientific notation in mathplotlib\n",
    "ax.set_ylabel('Total Number of Transactions',fontsize=20)\n",
    "ax.set_xlabel('Month',fontsize=20)\n",
    "ax.set_xticks(list(set(df1.month))) #adjust the ticks on x-axis so that it shows the value of all 12 months\n",
    "ax.set_title('Average transaction through years',fontsize=24);\n",
    "#There's a significant drop in the number of transaction in Agust 2017 since there are no datapoints were updated afterwards\n",
    "plt.savefig('line.png');"
   ]
  },
  {
   "cell_type": "markdown",
   "id": "132d7e24",
   "metadata": {},
   "source": [
    "***GOAL: Does the variation in the number of stores in each city affect the trend?***"
   ]
  },
  {
   "cell_type": "code",
   "execution_count": null,
   "id": "15eaa613",
   "metadata": {},
   "outputs": [],
   "source": [
    "import seaborn as sns\n",
    "\n",
    "df2=df[df.year==2014] #Subset the values n 2014\n",
    "df2=pd.DataFrame(df2.groupby(['City','Store_number']).Transactions.sum()) # Group by city and store\n",
    "df2.reset_index(inplace=True) #reset index\n",
    "df2=df2.drop(columns=[\"Transactions\"]) #drop transactions column\n",
    "df2=(df2.City).value_counts() #count the number of store in each city\n",
    "plt.figure(figsize=(25,10)) #make the figure size bigger\n",
    "palette = sns.color_palette(\"viridis\", 22) #make the color pallete for 22 cities\n",
    "plt.bar(df2.index,df2.values,color=palette) #graph the number of store in each city\n",
    "plt.xlabel('City',fontsize=20) #label x axis\n",
    "plt.xticks(fontsize=19,rotation=45) #make the label on x-axis bigger and rotate 45 degree\n",
    "plt.yticks(fontsize=19) #make the label on y-axis bigger\n",
    "plt.ylabel('Number of Stores',fontsize=20) #label y-axis\n",
    "plt.title(\"Total Stores in Different City of Ecuador\", fontsize=30);"
   ]
  },
  {
   "cell_type": "markdown",
   "id": "2f8df581",
   "metadata": {},
   "source": [
    "***GOAL: Investigating the store has highest transactions separated by type of Holidays (i.e. Local, Regional, National).***"
   ]
  },
  {
   "cell_type": "code",
   "execution_count": null,
   "id": "b1755605",
   "metadata": {
    "scrolled": true
   },
   "outputs": [],
   "source": [
    "#Data Exploration\n",
    "df3c=df.groupby(['Locale','Cluster']).sum() #we are interested in total of transactions group by cluster and type of holiday\n",
    "df3c.reset_index(inplace=True) #reset the index so we can call the data frame columns later\n",
    "\n",
    "#Extracting the data\n",
    "hol_type=list(df3c.Locale.unique()) #getting the list of holiday type\n",
    "global national_graph #set global so it could refer back for stacking later on\n",
    "for h in hol_type: #for loop through all type of holiday\n",
    "    df3d=df3c[df3c.Locale==h] #subset to another dataframe based on the groupped dataframe\n",
    "    if list(set(df3d.Locale))==['National']: #check if this is 'National' holiday \n",
    "        national_graph=df3d[['Cluster','Transactions']] #save the current df in another data frame with only x and y value\n",
    "    elif list(set(df3d.Locale))==['Local']: #check if this is 'Local' holiday\n",
    "        local_graph=df3d[['Cluster','Transactions']] #save the current df in another data frame with only x and y value\n",
    "    elif list(set(df3d.Locale))==['Regional']: #check if this is 'Regional' holiday\n",
    "        regional_graph=df3d[['Cluster','Transactions']] #save the current df in another data frame with only x and y value\n",
    "\n",
    "df3f=pd.merge(national_graph,regional_graph,on='Cluster') \n",
    "df3g=df3f.merge(local_graph,on='Cluster') #merging all saved data into a dataframe\n",
    "df3g=df3g.rename(columns={'Transactions_x':'National','Transactions_y':'Regional','Transactions':'Local'}) #renaming the dataframe\n",
    "\n",
    "#Plot the data\n",
    "df3g.plot(x='Cluster', kind='bar', stacked=True,figsize=(15, 10), rot = 0, color=['#f8c291','#0c2461','#079992'],width = 0.8)\n",
    "\n",
    "plt.xlabel('Cluster Groups',fontdict={'fontsize':16},color='#192a56') #labeling x\n",
    "plt.ylim(0,5000000) #scale y limit\n",
    "plt.ylabel('Total Transactions (x10$^6$)',fontdict={'fontsize':16},color='#192a56') #labeling y\n",
    "plt.title('Total Number of Transaction based on Cluster Groups\\n throughout all years separate by type of Holiday',\n",
    "         fontdict={'fontsize':24},color='#192a56') #set tittle\n",
    "plt.legend(loc='upper center',ncol=3, fontsize=18) #create legend\n",
    "plt.show()"
   ]
  },
  {
   "cell_type": "markdown",
   "id": "ed1c2218",
   "metadata": {},
   "source": [
    "***Further Analysis***"
   ]
  },
  {
   "cell_type": "code",
   "execution_count": null,
   "id": "99736d78",
   "metadata": {
    "scrolled": true
   },
   "outputs": [],
   "source": [
    "df3e=df[df.Cluster==14] \n",
    "df3e1=df3e.groupby(['Store_number','Locale','City']).max()\\\n",
    ".sort_values(by=['Store_number','Transactions'])\n",
    "out_e=df3e1[['State','Date','Transactions','Locale_name','Description','Oil_price']]\n",
    "out_e"
   ]
  },
  {
   "cell_type": "markdown",
   "id": "a8fb7b21",
   "metadata": {},
   "source": [
    "***GOAL: Does consumer behavior stay consistent during the holiday season and normal working days?***"
   ]
  },
  {
   "cell_type": "code",
   "execution_count": null,
   "id": "c9e8f7f9",
   "metadata": {},
   "outputs": [],
   "source": [
    "# called the file 'df'\n",
    "plt.figure(figsize=(15,8))\n",
    "unique_year = df.year.unique() # identified the unique years in the “year” column\n",
    "unique_year\n",
    "\n",
    "holiday_trans = [0]*len(unique_year)\n",
    "non_holiday_trans = [0]*len(unique_year)\n",
    "counter = 0\n",
    "for i in unique_year: # loop over each year\n",
    "    # mask and filter only holidays. compute the sum of all the transactions \n",
    "    holiday_trans[counter] = df[(df.Holiday_type!='No Holiday/Event')&(df.Holiday_type!='Work Day')&(df.year==i)].Transactions.sum()\n",
    "    # mask and filter only non-holidays. compute the sum of all the transactions\n",
    "    non_holiday_trans[counter] = df[((df.Holiday_type=='No Holiday/Event')|(df.Holiday_type=='Work Day'))&(df.year==i)].Transactions.sum()\n",
    "    counter += 1\n",
    "\n",
    "# graph side-by-side bar plot that compares the total transactions by day type (holiday or not) and year\n",
    "x_pos = np.arange(len(unique_year))\n",
    "plt.bar(x_pos, holiday_trans, width = -0.35, align = 'edge', label='Holiday')\n",
    "plt.bar(x_pos, non_holiday_trans, width = 0.35, align = 'edge', label='Non-holiday')\n",
    "plt.ylabel('Transactions',fontsize=16); \n",
    "plt.xlabel('Years',fontsize=16)\n",
    "plt.title('Total Transactions by Day Type and Year',fontsize=20)\n",
    "plt.xticks(x_pos, unique_year,fontsize=12) # labels for x-axis\n",
    "plt.legend(bbox_to_anchor=(1,1));\n",
    "\n",
    "# check ratio of holidays versus non-holidays\n",
    "# mask and filter specific dates that are categorized as holidays\n",
    "test1_hol = df[(df.Holiday_type!='No Holiday/Event')&(df.Holiday_type!='Work Day')].Date.unique()\n",
    "# mask and filter specific dates that are categorized as non-holidays\n",
    "test1_nonhol = df[(df.Holiday_type=='No Holiday/Event')|(df.Holiday_type=='Work Day')].Date.unique()\n",
    "test2_hol = [entry[5:] for entry in test1_hol] # finds the month and day over all data that is considered a holiday\n",
    "test2_nonhol = [entry[5:] for entry in test1_nonhol] # finds the month and day over all data that is considered NOT a holiday\n",
    "test3_hol = set(test2_hol) # eliminate repeating dates\n",
    "print(len(test3_hol)) # 105 holidays recorded in our dataset\n",
    "test3_nonhol = set(test2_nonhol) # eliminate repeating dates\n",
    "print(len(test3_nonhol)) # 328 non-holidays recorded in our dataset"
   ]
  },
  {
   "cell_type": "markdown",
   "id": "03974457",
   "metadata": {},
   "source": [
    "***GOAL: Investigate the relationship between the price of crude oil over the year it was sold using a box plot.***"
   ]
  },
  {
   "cell_type": "code",
   "execution_count": null,
   "id": "12869b4a",
   "metadata": {},
   "outputs": [],
   "source": [
    "boxdata=[list(df[df.year==2013].Oil_price),\n",
    "         list(df[df.year==2014].Oil_price),\n",
    "         list(df[df.year==2015].Oil_price),\n",
    "         list(df[df.year==2016].Oil_price),\n",
    "         list(df[df.year==2017].Oil_price)] # create a list of the five years represented by the data, only providing the oil prices\n",
    "plt.figure(figsize=(15,8)) # give it a size for visibility\n",
    "plt.boxplot(boxdata)\n",
    "plt.title(\"Boxplot of Oil Prices over Five years\", fontsize=18); plt.yticks(fontsize=14)\n",
    "plt.ylabel(\"Price of oil per barrel\", fontsize=16); plt.xlabel(\"Year sold\", fontsize=16)\n",
    "plt.xticks(range(1,6),[\"2013\", \"2014\", \"2015\", \"2016\", \"2017\"], fontsize=13); # rename the tick marks to represent each year\n",
    "plt.savefig('oil.png');"
   ]
  }
 ],
 "metadata": {
  "kernelspec": {
   "display_name": "Python 3 (ipykernel)",
   "language": "python",
   "name": "python3"
  },
  "language_info": {
   "codemirror_mode": {
    "name": "ipython",
    "version": 3
   },
   "file_extension": ".py",
   "mimetype": "text/x-python",
   "name": "python",
   "nbconvert_exporter": "python",
   "pygments_lexer": "ipython3",
   "version": "3.9.7"
  }
 },
 "nbformat": 4,
 "nbformat_minor": 5
}
